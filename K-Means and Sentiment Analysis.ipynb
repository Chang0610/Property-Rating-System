{
 "cells": [
  {
   "cell_type": "markdown",
   "id": "47959027-5659-4064-9583-e9b4ad8347e3",
   "metadata": {},
   "source": [
    "# K-Means and Sentiment Analysis"
   ]
  },
  {
   "cell_type": "code",
   "execution_count": null,
   "id": "0cb11979-6873-4d68-b579-2b236e8a870b",
   "metadata": {},
   "outputs": [],
   "source": [
    "from sklearn.cluster import KMeans\n",
    "import numpy as np\n",
    "from sklearn.feature_extraction.text import CountVectorizer\n",
    "from sklearn.svm import SVC\n",
    "\n",
    "# K-Means Clustering\n",
    "def kmeans_clustering():\n",
    "    property_features = np.array([[8.0, 7.5, 9.0], [5.0, 6.5, 6.0], [9.0, 8.0, 7.0]])\n",
    "    kmeans = KMeans(n_clusters=2)\n",
    "    kmeans.fit(property_features)\n",
    "    labels = kmeans.labels_\n",
    "    print(f\"Property clusters: {labels}\")\n",
    "\n",
    "# Sentiment Analysis\n",
    "def sentiment_analysis():\n",
    "    reviews = [\"Great place\", \"Not safe\", \"Good value for money\", \"Too noisy\"]\n",
    "    labels = [1, 0, 1, 0]  # 1 is positive, 0 is negative\n",
    "    vectorizer = CountVectorizer()\n",
    "    review_features = vectorizer.fit_transform(reviews)\n",
    "    model = SVC()\n",
    "    model.fit(review_features, labels)\n",
    "    \n",
    "    new_reviews = [\"Love the location\", \"Very unsafe area\"]\n",
    "    new_features = vectorizer.transform(new_reviews)\n",
    "    predictions = model.predict(new_features)\n",
    "    print(f\"Sentiment predictions: {predictions}\")\n",
    "\n",
    "if __name__ == \"__main__\":\n",
    "    kmeans_clustering()\n",
    "    sentiment_analysis()\n"
   ]
  },
  {
   "cell_type": "code",
   "execution_count": null,
   "id": "7a0d79c1-3615-49f1-bf0e-82ebc981d280",
   "metadata": {},
   "outputs": [],
   "source": []
  }
 ],
 "metadata": {
  "kernelspec": {
   "display_name": "Python 3 (ipykernel)",
   "language": "python",
   "name": "python3"
  },
  "language_info": {
   "codemirror_mode": {
    "name": "ipython",
    "version": 3
   },
   "file_extension": ".py",
   "mimetype": "text/x-python",
   "name": "python",
   "nbconvert_exporter": "python",
   "pygments_lexer": "ipython3",
   "version": "3.11.9"
  }
 },
 "nbformat": 4,
 "nbformat_minor": 5
}
